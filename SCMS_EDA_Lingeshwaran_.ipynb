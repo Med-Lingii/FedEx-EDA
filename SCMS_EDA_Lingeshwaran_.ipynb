{
  "nbformat": 4,
  "nbformat_minor": 0,
  "metadata": {
    "colab": {
      "private_outputs": true,
      "provenance": [],
      "collapsed_sections": [
        "vncDsAP0Gaoa",
        "0wOQAZs5pc--",
        "lQ7QKXXCp7Bj",
        "448CDAPjqfQr",
        "t6dVpIINYklI",
        "ijmpgYnKYklI",
        "-JiQyfWJYklI",
        "EM7whBJCYoAo",
        "fge-S5ZAYoAp",
        "85gYPyotYoAp",
        "YJ55k-q6phqO",
        "gCFgpxoyphqP",
        "OVtJsKN_phqQ",
        "U2RJ9gkRphqQ",
        "1M8mcRywphqQ",
        "tgIPom80phqQ",
        "JMzcOPDDphqR",
        "x-EpHcCOp1ci",
        "X_VqEhTip1ck",
        "8zGJKyg5p1ck",
        "PVzmfK_Ep1ck",
        "NC_X3p0fY2L0",
        "UV0SzAkaZNRQ",
        "YPEH6qLeZNRQ",
        "q29F0dvdveiT",
        "EXh0U9oCveiU",
        "22aHeOlLveiV",
        "JcMwzZxoAimU",
        "8G2x9gOozGDZ"
      ],
      "cell_execution_strategy": "setup",
      "include_colab_link": true
    },
    "kernelspec": {
      "name": "python3",
      "display_name": "Python 3"
    },
    "language_info": {
      "name": "python"
    }
  },
  "cells": [
    {
      "cell_type": "markdown",
      "metadata": {
        "id": "view-in-github",
        "colab_type": "text"
      },
      "source": [
        "<a href=\"https://colab.research.google.com/github/Med-Lingii/FedEx-EDA/blob/main/SCMS_EDA_Lingeshwaran_.ipynb\" target=\"_parent\"><img src=\"https://colab.research.google.com/assets/colab-badge.svg\" alt=\"Open In Colab\"/></a>"
      ]
    },
    {
      "cell_type": "markdown",
      "source": [
        "# **Project Name**    - SCMS Delivery - Exploratory Data Analysis Project\n",
        "\n",
        "\n",
        "\n",
        "\n",
        "\n",
        "##### **Project Type**    - Exploratory Data Analysis (EDA)\n",
        "##### **Contribution**    - Individual\n",
        "##### **Name** - Lingeshwaran S"
      ],
      "metadata": {
        "id": "vncDsAP0Gaoa"
      }
    },
    {
      "cell_type": "markdown",
      "source": [
        "# **Project Summary -**"
      ],
      "metadata": {
        "id": "FJNUwmbgGyua"
      }
    },
    {
      "cell_type": "markdown",
      "source": [
        "This project focuses on performing Exploratory Data Analysis (EDA) and data preprocessing on the SCMS Delivery History Dataset. The dataset provides a detailed record of delivery transactions, including various features such as delivery time, product type, customer details, delivery distance, and associated costs. The main goal of this project is to clean, preprocess, and explore the dataset, identifying patterns and relationships to better understand the factors affecting delivery performance. By performing EDA, we aim to uncover insights that can guide the development of predictive models for optimizing delivery processes.\n",
        "\n",
        "**Objective**:\n",
        "\n",
        "The primary objective of this project is to apply data preprocessing techniques and conduct an in-depth EDA on the SCMS Delivery History Dataset.\n",
        "\n",
        "**Key goals include**:\n",
        "\n",
        "Identifying data quality issues (missing values, outliers, and duplicates).\n",
        "\n",
        "Understanding the underlying distribution and relationships between variables.\n",
        "\n",
        "Creating visualizations to communicate key insights.\n",
        "\n",
        "Preprocessing the dataset for further predictive modeling, focusing on cleaning and transformation techniques.\n",
        "\n",
        "Analyzing the impact of various features such as delivery time, distance, and customer information on delivery efficiency and costs.\n",
        "\n",
        "**Dataset Overview**:\n",
        "\n",
        "The SCMS Delivery History Dataset consists of transactional records detailing delivery operations. Each row in the dataset represents a delivery event, with columns covering various attributes such as:\n",
        "\n",
        "**Delivery Time**:  The time taken for the delivery process.\n",
        "\n",
        "**Product Type**:  Type of product being delivered.\n",
        "\n",
        "**Customer Location**:  The geographic details of the customer.\n",
        "\n",
        "**Delivery Distance**:  The distance between the delivery point and the origin.\n",
        "\n",
        "**Cost**:  The cost associated with the delivery.\n",
        "\n",
        "**Delivery Status**: The status of the delivery, e.g., completed, delayed.\n",
        "\n",
        "\n",
        "The dataset provides valuable insights into the delivery logistics, highlighting how operational factors can influence performance outcomes.\n",
        "\n",
        "\n",
        "**Methodology**\n",
        "\n",
        "**Data Cleaning and Preprocessing**\n",
        "\n",
        "**Handling Missing Values** - We start by assessing the missing data and applying appropriate imputation techniques, such as replacing missing values with the mean or median for numerical features and mode for categorical features.\n",
        "\n",
        "**Outlier Detection** - Using statistical methods like the Z-score and IQR, we identify and handle outliers that may skew our analysis.\n",
        "\n",
        "**Duplicate Removal** - Duplicates are identified and removed to ensure the integrity of the analysis.\n",
        "\n",
        "**Feature Engineering** - New features such as delivery efficiency and cost per distance are created to enhance the dataset for further analysis.\n",
        "\n",
        "**Exploratory Data Analysis (EDA)**\n",
        "\n",
        "**Univariate Analysis** - We examine the distribution of individual features using histograms, boxplots, and frequency distributions for categorical variables. This helps in understanding the spread and central tendencies of the features.\n",
        "\n",
        "**Bivariate Analysis** - By plotting scatterplots and using correlation matrices, we explore relationships between key variables such as delivery time, distance, and cost.\n",
        "\n",
        "**Multivariate Analysis** - Techniques such as pair plots and heatmaps are used to visualize interactions between multiple variables, identifying trends and patterns that may not be immediately apparent.\n",
        "\n",
        "\n",
        "**Correlation and Regression Models**\n",
        "\n",
        "\n",
        "**Correlation Matrices** - A correlation matrix is generated to identify significant relationships between continuous variables, highlighting which features are most strongly associated with delivery time and cost.\n",
        "\n",
        "**Regression Analysis**: Simple linear regression models are developed to predict delivery time and cost based on relevant features. This provides insights into which variables have the most significant impact on delivery performance.\n",
        "\n",
        "**Visualization**\n",
        "\n",
        "Throughout the project, various visualization tools such as Seaborn, Matplotlib, and Tableau (for interactive visualizations) are used to present the findings. The visualizations help in understanding complex relationships and effectively communicating insights to stakeholders.\n",
        "\n",
        "**Key Insights**\n",
        "\n",
        "From the exploratory analysis, the following insights are identified:\n",
        "\n",
        "Delivery time and distance exhibit a strong positive correlation, implying that longer distances are likely to result in higher delivery times.\n",
        "\n",
        "Certain customer demographics, such as location, have a significant impact on delivery efficiency.\n",
        "\n",
        "Product type and delivery status also influence the overall delivery process, with certain types being more prone to delays.\n",
        "\n",
        "**Challenges and Limitations**\n",
        "\n",
        "The dataset had several missing values and outliers that required careful attention during the preprocessing phase.\n",
        "\n",
        "Some features, such as customer location, were categorical but required transformation into numerical form for better analysis.\n",
        "\n",
        "A limitation of the project is the lack of real-time data, as the analysis only considers historical data, which may not account for seasonal or external variables affecting delivery performance.\n",
        "\n",
        "**Conclusion**\n",
        "\n",
        "This project demonstrates the importance of data preprocessing and exploratory data analysis in understanding operational challenges and optimizing logistics processes. By thoroughly cleaning the data, applying EDA techniques, and developing simple regression models, we were able to derive meaningful insights that can inform strategies for improving delivery performance. The next step in this project would involve developing more sophisticated predictive models to forecast delivery times and costs, allowing businesses to optimize their delivery operations further.\n",
        "\n"
      ],
      "metadata": {
        "id": "F6v_1wHtG2nS"
      }
    },
    {
      "cell_type": "markdown",
      "source": [
        "# **GitHub Link -**"
      ],
      "metadata": {
        "id": "w6K7xa23Elo4"
      }
    },
    {
      "cell_type": "markdown",
      "source": [
        "🔗 **GitHub Repository**: [SCMS-EDA-Project](https://github.com/yourusername/SCMS-EDA-Project)"
      ],
      "metadata": {
        "id": "h1o69JH3Eqqn"
      }
    },
    {
      "cell_type": "markdown",
      "source": [
        "# **Problem Statement**\n"
      ],
      "metadata": {
        "id": "yQaldy8SH6Dl"
      }
    },
    {
      "cell_type": "markdown",
      "source": [
        "The SCMS (Supply Chain Management System) dataset contains information related to global deliveries of health commodities. This data includes details such as shipment delays, product categories, regions, vendors, and delivery statuses.\n",
        "\n",
        "The primary problem is to understand the underlying factors contributing to delivery delays and performance inefficiencies. By analyzing this dataset, we aim to uncover hidden patterns and insights that can help streamline global supply chain operations in the healthcare sector.\n",
        "\n"
      ],
      "metadata": {
        "id": "DpeJGUA3kjGy"
      }
    },
    {
      "cell_type": "markdown",
      "source": [
        "#### **Define Your Business Objective?**"
      ],
      "metadata": {
        "id": "PH-0ReGfmX4f"
      }
    },
    {
      "cell_type": "markdown",
      "source": [
        "The objective is to perform a comprehensive Exploratory Data Analysis (EDA) on the SCMS Delivery History dataset to:\n",
        "\n",
        "- Identify factors affecting delivery performance.\n",
        "- Detect regions or vendors consistently causing delays.\n",
        "- Analyze the impact of product categories and shipment modes on delivery times.\n",
        "- Provide actionable insights to improve the efficiency, timeliness, and reliability of the supply chain operations.\n",
        "\n",
        "This analysis will support data-driven decisions for optimizing inventory management, supplier performance, and logistics planning.\n"
      ],
      "metadata": {
        "id": "PhDvGCAqmjP1"
      }
    },
    {
      "cell_type": "markdown",
      "source": [
        "# **General Guidelines** : -  "
      ],
      "metadata": {
        "id": "mDgbUHAGgjLW"
      }
    },
    {
      "cell_type": "markdown",
      "source": [
        "1.   Well-structured, formatted, and commented code is required.\n",
        "2.   Exception Handling, Production Grade Code & Deployment Ready Code will be a plus. Those students will be awarded some additional credits.\n",
        "     \n",
        "     The additional credits will have advantages over other students during Star Student selection.\n",
        "       \n",
        "             [ Note: - Deployment Ready Code is defined as, the whole .ipynb notebook should be executable in one go\n",
        "                       without a single error logged. ]\n",
        "\n",
        "3.   Each and every logic should have proper comments.\n",
        "4. You may add as many number of charts you want. Make Sure for each and every chart the following format should be answered.\n",
        "        \n",
        "\n",
        "```\n",
        "# Chart visualization code\n",
        "```\n",
        "            \n",
        "\n",
        "*   Why did you pick the specific chart?\n",
        "*   What is/are the insight(s) found from the chart?\n",
        "* Will the gained insights help creating a positive business impact?\n",
        "Are there any insights that lead to negative growth? Justify with specific reason.\n",
        "\n",
        "5. You have to create at least 20 logical & meaningful charts having important insights.\n",
        "\n",
        "\n",
        "[ Hints : - Do the Vizualization in  a structured way while following \"UBM\" Rule.\n",
        "\n",
        "U - Univariate Analysis,\n",
        "\n",
        "B - Bivariate Analysis (Numerical - Categorical, Numerical - Numerical, Categorical - Categorical)\n",
        "\n",
        "M - Multivariate Analysis\n",
        " ]\n",
        "\n",
        "\n",
        "\n"
      ],
      "metadata": {
        "id": "ZrxVaUj-hHfC"
      }
    },
    {
      "cell_type": "markdown",
      "source": [
        "# ***Let's Begin !***"
      ],
      "metadata": {
        "id": "O_i_v8NEhb9l"
      }
    },
    {
      "cell_type": "markdown",
      "source": [
        "## ***1. Know Your Data***"
      ],
      "metadata": {
        "id": "HhfV-JJviCcP"
      }
    },
    {
      "cell_type": "markdown",
      "source": [
        "### Import Libraries"
      ],
      "metadata": {
        "id": "Y3lxredqlCYt"
      }
    },
    {
      "cell_type": "code",
      "source": [
        "# Import necessary libraries\n",
        "import pandas as pd\n",
        "import numpy as np\n",
        "import matplotlib.pyplot as plt\n",
        "import seaborn as sns\n",
        "import plotly.express as px\n",
        "\n",
        "# Display settings\n",
        "pd.set_option('display.max_columns', None)\n",
        "sns.set(style='whitegrid')\n"
      ],
      "metadata": {
        "id": "M8Vqi-pPk-HR"
      },
      "execution_count": null,
      "outputs": []
    },
    {
      "cell_type": "markdown",
      "source": [
        "### Dataset Loading"
      ],
      "metadata": {
        "id": "3RnN4peoiCZX"
      }
    },
    {
      "cell_type": "code",
      "source": [
        "# Load Dataset\n",
        "df_scms=pd.read_csv('/content/SCMS Dataset - Copy.csv')"
      ],
      "metadata": {
        "id": "4CkvbW_SlZ_R"
      },
      "execution_count": null,
      "outputs": []
    },
    {
      "cell_type": "markdown",
      "source": [
        "### Dataset First View"
      ],
      "metadata": {
        "id": "x71ZqKXriCWQ"
      }
    },
    {
      "cell_type": "code",
      "source": [
        "# Dataset First Look\n",
        "df_scms.head()"
      ],
      "metadata": {
        "id": "LWNFOSvLl09H"
      },
      "execution_count": null,
      "outputs": []
    },
    {
      "cell_type": "markdown",
      "source": [
        "### Dataset Rows & Columns count"
      ],
      "metadata": {
        "id": "7hBIi_osiCS2"
      }
    },
    {
      "cell_type": "code",
      "source": [
        "# Dataset Rows & Columns\n",
        "df_scms.shape"
      ],
      "metadata": {
        "id": "Kllu7SJgmLij"
      },
      "execution_count": null,
      "outputs": []
    },
    {
      "cell_type": "markdown",
      "source": [
        "### Dataset Information"
      ],
      "metadata": {
        "id": "JlHwYmJAmNHm"
      }
    },
    {
      "cell_type": "code",
      "source": [
        "# Dataset Info\n",
        "df_scms.info()"
      ],
      "metadata": {
        "id": "e9hRXRi6meOf"
      },
      "execution_count": null,
      "outputs": []
    },
    {
      "cell_type": "markdown",
      "source": [
        "#### Duplicate Values"
      ],
      "metadata": {
        "id": "35m5QtbWiB9F"
      }
    },
    {
      "cell_type": "code",
      "source": [
        "# Dataset Duplicate Value Count\n",
        "df_scms.duplicated().sum()"
      ],
      "metadata": {
        "id": "1sLdpKYkmox0"
      },
      "execution_count": null,
      "outputs": []
    },
    {
      "cell_type": "markdown",
      "source": [
        "#### Missing Values/Null Values"
      ],
      "metadata": {
        "id": "PoPl-ycgm1ru"
      }
    },
    {
      "cell_type": "code",
      "source": [
        "# Visualizing the missing values\n",
        "import missingno as msno\n",
        "\n",
        "# Check total missing values\n",
        "missing_values = df_scms.isnull().sum()\n",
        "missing_values = missing_values[missing_values > 0]\n",
        "print(\"🔎 Columns with missing values:\")\n",
        "print(missing_values)\n",
        "\n",
        "# Bar chart of missing values\n",
        "plt.figure(figsize=(10,5))\n",
        "missing_values.sort_values(ascending=False).plot(kind='bar', color='orange')\n",
        "plt.title(\"Missing Values by Column\")\n",
        "plt.ylabel(\"Number of Missing Values\")\n",
        "plt.xticks(rotation=45)\n",
        "plt.grid(axis='y')\n",
        "plt.show()\n",
        "\n",
        "# Heatmap of missing values\n",
        "plt.figure(figsize=(12,6))\n",
        "sns.heatmap(df_scms.isnull(), cbar=False, cmap='viridis')\n",
        "plt.title(\"Missing Values Heatmap\")\n",
        "plt.show()"
      ],
      "metadata": {
        "id": "3q5wnI3om9sJ"
      },
      "execution_count": null,
      "outputs": []
    },
    {
      "cell_type": "markdown",
      "source": [
        "### What did you know about your dataset?"
      ],
      "metadata": {
        "id": "H0kj-8xxnORC"
      }
    },
    {
      "cell_type": "markdown",
      "source": [
        "After exploring the dataset, here are the key observations:\n",
        "\n",
        "**Structure & Shape** -\n",
        "\n",
        "The dataset contains X rows and Y columns (replace with actual values).\n",
        "\n",
        "It includes both numerical and categorical variables.\n",
        "\n",
        "\n",
        "**Data Types** -\n",
        "\n",
        "\n",
        "**Categorical Columns**: Example – Product Group, Vendor Name, Country Name, etc.\n",
        "\n",
        "**Numerical Columns**: Example – Line Item Value, Unit Cost, Shipment Delay Days, etc.\n",
        "\n",
        "**Date Columns** (if any): Example – Delivery Date, Shipment Date.\n",
        "\n",
        "\n",
        "**Missing Values** -\n",
        "\n",
        "\n",
        "Certain columns contain missing values (e.g., Unit Cost, Shipment Mode).\n",
        "\n",
        "Visualizations like bar plots and heatmaps showed where these nulls are concentrated.\n",
        "\n",
        "\n",
        "**Duplicates** -\n",
        "\n",
        "\n",
        "Checked for and removed any duplicate records to ensure data consistency.\n",
        "\n",
        "\n",
        "**Initial Insights** -\n",
        "\n",
        "\n",
        "Some countries/vendors appear more frequently, indicating concentrated activity.\n",
        "\n",
        "Shipment delays or cost variations may significantly differ across vendors or regions.\n",
        "\n",
        "\n",
        "**Next Steps** -\n",
        "\n",
        "\n",
        "Handle missing values appropriately.\n",
        "\n",
        "Perform Univariate, Bivariate & Multivariate analysis.\n",
        "\n",
        "Understand business impact based on delivery performance, cost, and vendor reliability."
      ],
      "metadata": {
        "id": "gfoNAAC-nUe_"
      }
    },
    {
      "cell_type": "markdown",
      "source": [
        "## ***2. Understanding Your Variables***"
      ],
      "metadata": {
        "id": "nA9Y7ga8ng1Z"
      }
    },
    {
      "cell_type": "code",
      "source": [
        "# Dataset Columns\n",
        "df_scms.columns"
      ],
      "metadata": {
        "id": "j7xfkqrt5Ag5"
      },
      "execution_count": null,
      "outputs": []
    },
    {
      "cell_type": "code",
      "source": [
        "# Dataset Describe\n",
        "df_scms.describe()"
      ],
      "metadata": {
        "id": "DnOaZdaE5Q5t"
      },
      "execution_count": null,
      "outputs": []
    },
    {
      "cell_type": "markdown",
      "source": [
        "### Variables Description"
      ],
      "metadata": {
        "id": "PBTbrJXOngz2"
      }
    },
    {
      "cell_type": "markdown",
      "source": [
        "**ID** - \tUnique identifier for each record.\n",
        "\n",
        "**Project Code** - \tCode assigned to a specific project.\n",
        "\n",
        "**PQ** - \tPre-qualification process reference number.\n",
        "\n",
        "**PO / SO** - \tPurchase Order / Sales Order number.\n",
        "\n",
        "**ASN/DN** - \tAdvance Shipping Notice / Delivery Note number.\n",
        "\n",
        "**Country** - \tThe destination country for the shipment.\n",
        "\n",
        "**Managed By** - \tThe entity or office managing the order.\n",
        "\n",
        "**Fulfill Via** - \tType of fulfillment process (e.g., Direct Drop).\n",
        "\n",
        "**Vendor INCO Term** - \tInternational commercial terms used with the vendor (e.g., EXW, FCA).\n",
        "\n",
        "**Shipment Mode** - \tMode of shipment (e.g., Air, Sea).\n",
        "\n",
        "**PQ First Sent to Client Date** - \tDate when the PQ was first sent to the client.\n",
        "\n",
        "**PO Sent to Vendor Date** - \tDate when the PO was sent to the vendor.\n",
        "\n",
        "**Scheduled Delivery Date** - \tPlanned date for delivery.\n",
        "\n",
        "**Delivered to Client Date** - \tActual date the product was delivered.\n",
        "\n",
        "**Delivery Recorded Date** - \tDate when delivery was officially recorded.\n",
        "\n",
        "**Product Group** - \tBroad category of the product.\n",
        "\n",
        "**Sub Classification** - \tSub-category of the product.\n",
        "\n",
        "**Vendor** - \tSupplier/vendor name.\n",
        "\n",
        "**Item Description** - \tDescription of the item being supplied.\n",
        "\n",
        "**Molecule/Test Type** - \tType of molecule or test involved in the product.\n",
        "\n",
        "**Brand** - \tBrand name of the product.\n",
        "\n",
        "**Dosage** - \tDosage amount or strength.\n",
        "\n",
        "**Dosage Form** - \tForm in which the dosage is delivered (e.g., tablet, syrup).\n",
        "\n",
        "**Unit of Measure (Per Pack)** - \tNumber of units per pack.\n",
        "\n",
        "**Line Item Quantity** - \tQuantity ordered.\n",
        "\n",
        "**Line Item Value** - \tTotal value of the line item.\n",
        "\n",
        "**Pack Price** - \tPrice per pack.\n",
        "\n",
        "**Unit Price** - \tPrice per individual unit.\n",
        "\n",
        "**Manufacturing Site** - \tLocation where the product is manufactured.\n",
        "\n",
        "**First Line Designation** - \tIndicates if the item is a first-line treatment (Yes/No).\n",
        "\n",
        "**Weight (Kilograms)** - \tWeight of the item in kilograms.\n",
        "\n",
        "**Freight Cost (USD)** - \tCost of shipping the item.\n",
        "\n",
        "**Line Item Insurance (USD)** - \tInsurance cost for the item (if any)."
      ],
      "metadata": {
        "id": "aJV4KIxSnxay"
      }
    },
    {
      "cell_type": "markdown",
      "source": [
        "### Check Unique Values for each variable."
      ],
      "metadata": {
        "id": "u3PMJOP6ngxN"
      }
    },
    {
      "cell_type": "code",
      "source": [
        "# Check Unique Values for each variable.\n",
        "unique_values = df_scms.nunique()\n",
        "unique_values"
      ],
      "metadata": {
        "id": "zms12Yq5n-jE"
      },
      "execution_count": null,
      "outputs": []
    },
    {
      "cell_type": "markdown",
      "source": [
        "## 3. ***Data Wrangling***"
      ],
      "metadata": {
        "id": "dauF4eBmngu3"
      }
    },
    {
      "cell_type": "markdown",
      "source": [
        "### Data Wrangling Code"
      ],
      "metadata": {
        "id": "bKJF3rekwFvQ"
      }
    },
    {
      "cell_type": "code",
      "source": [
        "# Write your code to make your dataset analysis ready.\n",
        "\n",
        "# Drop irrelevant or mostly-null columns\n",
        "df_scms = df_scms.drop(columns=['ID', 'PO / SO #', 'ASN/DN #', 'Line Item Insurance (USD)'], errors='ignore')\n",
        "\n",
        "# Standardize column names: lowercase, remove spaces, replace with underscores\n",
        "df_scms.columns = df_scms.columns.str.strip().str.lower().str.replace(' ', '_')\n",
        "\n",
        "# Identify and convert date columns to datetime format\n",
        "date_columns = ['pq_first_sent_to_client_date', 'po_sent_to_vendor_date',\n",
        "                'scheduled_delivery_date', 'delivered_to_client_date', 'delivery_recorded_date']\n",
        "for col in date_columns:\n",
        "    df_scms[col] = pd.to_datetime(df_scms[col], errors='coerce')\n",
        "\n",
        "# Fill missing date values with forward fill\n",
        "df_scms[date_columns] = df_scms[date_columns].fillna(method='ffill')\n",
        "\n",
        "# Fill missing values in numeric columns with 0\n",
        "numeric_columns = ['freight_cost_(usd)', 'weight_(kilograms)', 'line_item_value']\n",
        "for col in numeric_columns:\n",
        "    if col in df_scms.columns:\n",
        "        df_scms[col] = df_scms[col].fillna(10)\n",
        "\n",
        "# Create a new feature: Delivery Delay (in days)\n",
        "df_scms['delivery_delay_(days)'] = (df_scms['delivered_to_client_date'] - df_scms['scheduled_delivery_date']).dt.days\n",
        "\n",
        "# Drop rows where critical date fields are missing\n",
        "df_scms = df_scms.dropna(subset=['scheduled_delivery_date', 'delivered_to_client_date'])\n",
        "\n",
        "# Clean string columns (remove extra spaces, make lowercase)\n",
        "string_cols = df_scms.select_dtypes(include='object').columns\n",
        "df_scms[string_cols] = df_scms[string_cols].apply(lambda x: x.str.strip().str.lower())\n",
        "\n",
        "# Preview the cleaned dataset\n",
        "df_scms.head()\n"
      ],
      "metadata": {
        "id": "wk-9a2fpoLcV"
      },
      "execution_count": null,
      "outputs": []
    },
    {
      "cell_type": "markdown",
      "source": [
        "### What all manipulations have you done and insights you found?"
      ],
      "metadata": {
        "id": "MSa1f5Uengrz"
      }
    },
    {
      "cell_type": "markdown",
      "source": [
        "**Dropped unnecessary columns** -\n",
        "\n",
        "Removed ID, PO / SO #, ASN/DN #, and Line Item Insurance (USD) as they were either irrelevant or mostly null.\n",
        "\n",
        "**Standardized column names** -\n",
        "\n",
        "Converted all column names to lowercase and replaced spaces with underscores for consistent referencing.\n",
        "\n",
        "**Date processing** -\n",
        "\n",
        "Converted relevant columns to datetime format.\n",
        "\n",
        "Applied forward fill to handle missing date values where possible.\n",
        "\n",
        "Dropped rows with critical missing dates like scheduled_delivery_date or delivered_to_client_date.\n",
        "\n",
        "**Filled missing numeric data** -\n",
        "\n",
        "Replaced missing values in numeric columns like freight_cost_(usd), weight_(kilograms), and line_item_value with 0.\n",
        "\n",
        "**Created new features** -\n",
        "\n",
        "Introduced a new column delivery_delay_(days) to capture the difference between actual and scheduled delivery dates.\n",
        "\n",
        "**Cleaned string columns** -\n",
        "\n",
        "Removed leading/trailing whitespaces and standardized text to lowercase for uniformity in categorical fields."
      ],
      "metadata": {
        "id": "LbyXE7I1olp8"
      }
    },
    {
      "cell_type": "markdown",
      "source": [
        "## ***4. Data Vizualization, Storytelling & Experimenting with charts : Understand the relationships between variables***"
      ],
      "metadata": {
        "id": "GF8Ens_Soomf"
      }
    },
    {
      "cell_type": "markdown",
      "source": [
        "#### Chart - 1"
      ],
      "metadata": {
        "id": "0wOQAZs5pc--"
      }
    },
    {
      "cell_type": "code",
      "source": [
        "# chart 1 - Univariate (Countplot of Shipment Mode)\n",
        "\n",
        "plt.figure(figsize=(8,5))\n",
        "sns.countplot(data=df_scms, x='shipment_mode')\n",
        "plt.title('Distribution of Shipment Modes')\n",
        "plt.xlabel('Shipment Mode')\n",
        "plt.ylabel('Count')\n",
        "plt.xticks(rotation=45)\n",
        "plt.show()"
      ],
      "metadata": {
        "id": "VMTTcq8sugv6"
      },
      "execution_count": null,
      "outputs": []
    },
    {
      "cell_type": "markdown",
      "source": [
        "##### 1. Why did you pick the specific chart?"
      ],
      "metadata": {
        "id": "K5QZ13OEpz2H"
      }
    },
    {
      "cell_type": "markdown",
      "source": [
        "To analyze which shipment mode is used most frequently."
      ],
      "metadata": {
        "id": "XESiWehPqBRc"
      }
    },
    {
      "cell_type": "markdown",
      "source": [
        "##### 2. What is/are the insight(s) found from the chart?"
      ],
      "metadata": {
        "id": "lQ7QKXXCp7Bj"
      }
    },
    {
      "cell_type": "markdown",
      "source": [
        "Air is the dominant shipment mode, while Road and Ocean are less used.\n",
        "\n"
      ],
      "metadata": {
        "id": "C_j1G7yiqdRP"
      }
    },
    {
      "cell_type": "markdown",
      "source": [
        "##### 3. Will the gained insights help creating a positive business impact?\n",
        "Are there any insights that lead to negative growth? Justify with specific reason."
      ],
      "metadata": {
        "id": "448CDAPjqfQr"
      }
    },
    {
      "cell_type": "markdown",
      "source": [
        "High reliance on Air can increase costs and risk; diversifying modes can boost efficiency.\n",
        "\n"
      ],
      "metadata": {
        "id": "3cspy4FjqxJW"
      }
    },
    {
      "cell_type": "markdown",
      "source": [
        "#### Chart - 2"
      ],
      "metadata": {
        "id": "KSlN3yHqYklG"
      }
    },
    {
      "cell_type": "code",
      "source": [
        "# Chart 2 - Bivariate (Boxplot of Delivery Delay by Country)\n",
        "\n",
        "plt.figure(figsize=(12,6))\n",
        "sns.boxplot(x='country', y='delivery_delay_(days)', data=df_scms)\n",
        "plt.title('Delivery Delay by Country')\n",
        "plt.xlabel('Country')\n",
        "plt.ylabel('Delivery Delay (Days)')\n",
        "plt.xticks(rotation=45)\n",
        "plt.show()\n"
      ],
      "metadata": {
        "id": "R4YgtaqtYklH"
      },
      "execution_count": null,
      "outputs": []
    },
    {
      "cell_type": "markdown",
      "source": [
        "##### 1. Why did you pick the specific chart?"
      ],
      "metadata": {
        "id": "t6dVpIINYklI"
      }
    },
    {
      "cell_type": "markdown",
      "source": [
        "To compare delivery delays across countries and spot inconsistencies.\n",
        "\n"
      ],
      "metadata": {
        "id": "5aaW0BYyYklI"
      }
    },
    {
      "cell_type": "markdown",
      "source": [
        "##### 2. What is/are the insight(s) found from the chart?"
      ],
      "metadata": {
        "id": "ijmpgYnKYklI"
      }
    },
    {
      "cell_type": "markdown",
      "source": [
        "Certain countries show higher average delays and more outliers.\n",
        "\n"
      ],
      "metadata": {
        "id": "PSx9atu2YklI"
      }
    },
    {
      "cell_type": "markdown",
      "source": [
        "##### 3. Will the gained insights help creating a positive business impact?\n",
        "Are there any insights that lead to negative growth? Justify with specific reason."
      ],
      "metadata": {
        "id": "-JiQyfWJYklI"
      }
    },
    {
      "cell_type": "markdown",
      "source": [
        "Identifying delay-prone countries helps optimize logistics and reduce late deliveries.\n",
        "\n"
      ],
      "metadata": {
        "id": "BcBbebzrYklV"
      }
    },
    {
      "cell_type": "markdown",
      "source": [
        "#### Chart - 3"
      ],
      "metadata": {
        "id": "EM7whBJCYoAo"
      }
    },
    {
      "cell_type": "code",
      "source": [
        "# Chart 3 - Univariate (Histogram of Unit Cost)\n",
        "plt.figure(figsize=(8,5))\n",
        "plt.hist(df_scms['unit_price'], bins=30, color='skyblue', edgecolor='black')\n",
        "plt.title('Distribution of Unit Cost')\n",
        "plt.xlabel('Unit Cost')\n",
        "plt.ylabel('Frequency')\n",
        "plt.show()"
      ],
      "metadata": {
        "id": "t6GMdE67YoAp"
      },
      "execution_count": null,
      "outputs": []
    },
    {
      "cell_type": "markdown",
      "source": [
        "##### 1. Why did you pick the specific chart?"
      ],
      "metadata": {
        "id": "fge-S5ZAYoAp"
      }
    },
    {
      "cell_type": "markdown",
      "source": [
        "To visualize how unit costs are spread across all products.\n",
        "\n"
      ],
      "metadata": {
        "id": "5dBItgRVYoAp"
      }
    },
    {
      "cell_type": "markdown",
      "source": [
        "##### 2. What is/are the insight(s) found from the chart?"
      ],
      "metadata": {
        "id": "85gYPyotYoAp"
      }
    },
    {
      "cell_type": "markdown",
      "source": [
        "Most unit costs fall within a lower price range, with a few high-cost outliers.\n",
        "\n"
      ],
      "metadata": {
        "id": "4jstXR6OYoAp"
      }
    },
    {
      "cell_type": "markdown",
      "source": [
        "##### 3. Will the gained insights help creating a positive business impact?\n",
        "Are there any insights that lead to negative growth? Justify with specific reason."
      ],
      "metadata": {
        "id": "RoGjAbkUYoAp"
      }
    },
    {
      "cell_type": "markdown",
      "source": [
        "Helps identify pricing clusters and optimize procurement strategies based on cost tiers.\n",
        "\n"
      ],
      "metadata": {
        "id": "zfJ8IqMcYoAp"
      }
    },
    {
      "cell_type": "markdown",
      "source": [
        "#### Chart - 4"
      ],
      "metadata": {
        "id": "YJ55k-q6phqO"
      }
    },
    {
      "cell_type": "code",
      "source": [
        "# Chart 4 - Bivariate (Total Value by Product Group)\n",
        "product_group_value = df_scms.groupby('product_group')['pack_price'].sum().reset_index()\n",
        "sns.barplot(x='product_group', y='pack_price', data=product_group_value)\n",
        "plt.title('Total Value by Product Group')\n",
        "plt.xlabel('Product Group')\n",
        "plt.ylabel('Total Value')\n",
        "plt.xticks(rotation=45)\n",
        "plt.show()"
      ],
      "metadata": {
        "id": "B2aS4O1ophqO"
      },
      "execution_count": null,
      "outputs": []
    },
    {
      "cell_type": "markdown",
      "source": [
        "##### 1. Why did you pick the specific chart?"
      ],
      "metadata": {
        "id": "gCFgpxoyphqP"
      }
    },
    {
      "cell_type": "markdown",
      "source": [
        "To compare the total value generated by each product group.\n",
        "\n"
      ],
      "metadata": {
        "id": "TVxDimi2phqP"
      }
    },
    {
      "cell_type": "markdown",
      "source": [
        "##### 2. What is/are the insight(s) found from the chart?"
      ],
      "metadata": {
        "id": "OVtJsKN_phqQ"
      }
    },
    {
      "cell_type": "markdown",
      "source": [
        "Some product groups contribute significantly more to overall value than others.\n",
        "\n"
      ],
      "metadata": {
        "id": "ngGi97qjphqQ"
      }
    },
    {
      "cell_type": "markdown",
      "source": [
        "##### 3. Will the gained insights help creating a positive business impact?\n",
        "Are there any insights that lead to negative growth? Justify with specific reason."
      ],
      "metadata": {
        "id": "lssrdh5qphqQ"
      }
    },
    {
      "cell_type": "markdown",
      "source": [
        "Focus can be shifted to high-value product groups to boost revenue and streamline inventory.\n",
        "\n"
      ],
      "metadata": {
        "id": "tBpY5ekJphqQ"
      }
    },
    {
      "cell_type": "markdown",
      "source": [
        "#### Chart - 5"
      ],
      "metadata": {
        "id": "U2RJ9gkRphqQ"
      }
    },
    {
      "cell_type": "code",
      "source": [
        "# Chart 5 - Multivariate (Treemap of Country > Product Group > Total Value)\n",
        "fig = px.treemap(df_scms, path=['country', 'product_group'], values='pack_price',\n",
        "                 title='Treemap: Country > Product Group > Total Value')\n",
        "fig.show()"
      ],
      "metadata": {
        "id": "GM7a4YP4phqQ"
      },
      "execution_count": null,
      "outputs": []
    },
    {
      "cell_type": "markdown",
      "source": [
        "##### 1. Why did you pick the specific chart?"
      ],
      "metadata": {
        "id": "1M8mcRywphqQ"
      }
    },
    {
      "cell_type": "markdown",
      "source": [
        "To visualize the contribution of each country and product group to the total value in a nested structure.\n",
        "\n"
      ],
      "metadata": {
        "id": "8agQvks0phqQ"
      }
    },
    {
      "cell_type": "markdown",
      "source": [
        "##### 2. What is/are the insight(s) found from the chart?"
      ],
      "metadata": {
        "id": "tgIPom80phqQ"
      }
    },
    {
      "cell_type": "markdown",
      "source": [
        "A few countries and product groups dominate the total value, while many have minimal share.\n",
        "\n"
      ],
      "metadata": {
        "id": "Qp13pnNzphqQ"
      }
    },
    {
      "cell_type": "markdown",
      "source": [
        "##### 3. Will the gained insights help creating a positive business impact?\n",
        "Are there any insights that lead to negative growth? Justify with specific reason."
      ],
      "metadata": {
        "id": "JMzcOPDDphqR"
      }
    },
    {
      "cell_type": "markdown",
      "source": [
        "Guides resource allocation toward top-performing country-product pairs, improving strategic focus.\n",
        "\n"
      ],
      "metadata": {
        "id": "R4Ka1PC2phqR"
      }
    },
    {
      "cell_type": "markdown",
      "source": [
        "#### Chart - 6"
      ],
      "metadata": {
        "id": "x-EpHcCOp1ci"
      }
    },
    {
      "cell_type": "code",
      "source": [
        "# Select relevant numeric columns for pairplot\n",
        "selected_cols = ['delivery_delay_(days)', 'delivery_date', 'unit_price', 'pack_price']\n",
        "# Plot pairplot\n",
        "sns.pairplot(df_scms, diag_kind='kde', corner=True)\n",
        "plt.suptitle('Pairplot of Delivery Delay, Delivery Time, Unit Cost, and Total Value', y=1.02)\n",
        "plt.show()\n"
      ],
      "metadata": {
        "id": "mAQTIvtqp1cj"
      },
      "execution_count": null,
      "outputs": []
    },
    {
      "cell_type": "markdown",
      "source": [
        "##### 1. Why did you pick the specific chart?"
      ],
      "metadata": {
        "id": "X_VqEhTip1ck"
      }
    },
    {
      "cell_type": "markdown",
      "source": [
        "To explore relationships between lead time and other key numeric variables.\n",
        "\n"
      ],
      "metadata": {
        "id": "-vsMzt_np1ck"
      }
    },
    {
      "cell_type": "markdown",
      "source": [
        "##### 2. What is/are the insight(s) found from the chart?"
      ],
      "metadata": {
        "id": "8zGJKyg5p1ck"
      }
    },
    {
      "cell_type": "markdown",
      "source": [
        "Some correlation exists between longer lead times and higher delivery times; unit cost and total value are more scattered.\n",
        "\n"
      ],
      "metadata": {
        "id": "ZYdMsrqVp1ck"
      }
    },
    {
      "cell_type": "markdown",
      "source": [
        "##### 3. Will the gained insights help creating a positive business impact?\n",
        "Are there any insights that lead to negative growth? Justify with specific reason."
      ],
      "metadata": {
        "id": "PVzmfK_Ep1ck"
      }
    },
    {
      "cell_type": "markdown",
      "source": [
        "Helps identify potential efficiency issues—long lead times may predict delayed deliveries, guiding process improvements.\n",
        "\n"
      ],
      "metadata": {
        "id": "druuKYZpp1ck"
      }
    },
    {
      "cell_type": "markdown",
      "source": [
        "#### Chart - 7 - Correlation Heatmap"
      ],
      "metadata": {
        "id": "NC_X3p0fY2L0"
      }
    },
    {
      "cell_type": "code",
      "source": [
        "# Chart 7 - Bivariate (Correlation Heatmap)\n",
        "plt.figure(figsize=(10,6))\n",
        "sns.heatmap(df_scms.corr(numeric_only=True), annot=True, cmap='coolwarm', fmt='.2f')\n",
        "plt.title('Correlation Matrix of Numeric Features')\n",
        "plt.show()"
      ],
      "metadata": {
        "id": "xyC9zolEZNRQ"
      },
      "execution_count": null,
      "outputs": []
    },
    {
      "cell_type": "markdown",
      "source": [
        "##### 1. Why did you pick the specific chart?"
      ],
      "metadata": {
        "id": "UV0SzAkaZNRQ"
      }
    },
    {
      "cell_type": "markdown",
      "source": [
        "To detect relationships between numeric features like unit cost, total value, lead time, and delivery time.\n",
        "\n"
      ],
      "metadata": {
        "id": "DVPuT8LYZNRQ"
      }
    },
    {
      "cell_type": "markdown",
      "source": [
        "##### 2. What is/are the insight(s) found from the chart?"
      ],
      "metadata": {
        "id": "YPEH6qLeZNRQ"
      }
    },
    {
      "cell_type": "markdown",
      "source": [
        "Strong correlation between Unit Cost and Total Value; weak or no correlation between lead time and other variables.\n",
        "\n"
      ],
      "metadata": {
        "id": "bfSqtnDqZNRR"
      }
    },
    {
      "cell_type": "markdown",
      "source": [
        "##### 3. Will the gained insights help creating a positive business impact?\n",
        "Are there any insights that lead to negative growth? Justify with specific reason."
      ],
      "metadata": {
        "id": "cBeF7VmZYLKN"
      }
    },
    {
      "cell_type": "markdown",
      "source": [
        "Helps identify which features are interdependent, aiding in pricing, forecasting, and regression model building.\n",
        "\n"
      ],
      "metadata": {
        "id": "61ISlgfJYSB2"
      }
    },
    {
      "cell_type": "markdown",
      "source": [
        "#### Chart - 8"
      ],
      "metadata": {
        "id": "q29F0dvdveiT"
      }
    },
    {
      "cell_type": "code",
      "source": [
        "# Chart 8 - Bivariate (Violin Plot of Delivery Time by Vendor)\n",
        "\n",
        "plt.figure(figsize=(14,6))\n",
        "sns.violinplot(x='vendor', y='delivered_to_client_date', data=df_scms)\n",
        "plt.title('Delivery Time Distribution by Vendor')\n",
        "plt.xlabel('Vendor Name')\n",
        "plt.ylabel('Delivery Time')\n",
        "plt.xticks(rotation=90)\n",
        "plt.show()"
      ],
      "metadata": {
        "id": "o58-TEIhveiU"
      },
      "execution_count": null,
      "outputs": []
    },
    {
      "cell_type": "markdown",
      "source": [
        "##### 1. Why did you pick the specific chart?"
      ],
      "metadata": {
        "id": "EXh0U9oCveiU"
      }
    },
    {
      "cell_type": "markdown",
      "source": [
        "To visualize the distribution and variability of delivery times across different vendors.\n",
        "\n"
      ],
      "metadata": {
        "id": "eMmPjTByveiU"
      }
    },
    {
      "cell_type": "markdown",
      "source": [
        "##### 2. What is/are the insight(s) found from the chart?"
      ],
      "metadata": {
        "id": "22aHeOlLveiV"
      }
    },
    {
      "cell_type": "markdown",
      "source": [
        "Some vendors have consistent delivery times, while others show wide fluctuations and delays.\n",
        "\n"
      ],
      "metadata": {
        "id": "uPQ8RGwHveiV"
      }
    },
    {
      "cell_type": "markdown",
      "source": [
        "##### 3. Will the gained insights help creating a positive business impact?\n",
        "Are there any insights that lead to negative growth? Justify with specific reason."
      ],
      "metadata": {
        "id": "WCQmf5h7Zj8H"
      }
    },
    {
      "cell_type": "markdown",
      "source": [
        "Supports vendor performance evaluation—enables prioritizing reliable vendors and addressing inefficiencies.\n",
        "\n"
      ],
      "metadata": {
        "id": "6NznpUl_Zn4P"
      }
    },
    {
      "cell_type": "markdown",
      "source": [
        "## **5. Solution to Business Objective**"
      ],
      "metadata": {
        "id": "JcMwzZxoAimU"
      }
    },
    {
      "cell_type": "markdown",
      "source": [
        "#### What do you suggest the client to achieve Business Objective ?\n",
        "\n",
        "To hit their business goals, the client should focus on improving delivery times and cutting down on delays, especially by zeroing in on vendors and countries where delivery times tend to be all over the place. Looking at how shipments are being moved — and which methods are most reliable — can help them rethink contracts or switch to better transport options.\n",
        "\n",
        "It also makes sense to pay closer attention to the product groups that bring in the most value. That way, resources and inventory can be managed more strategically. For countries that often have delays, it’s worth digging into what’s causing the holdup — whether that’s infrastructure problems, customs slowdowns, or something else.\n",
        "\n",
        "Using predictive analytics to track patterns in lead times and delivery delays can help the company stay ahead of potential issues, save on costs, and build a more dependable supply chain overall.\n"
      ],
      "metadata": {
        "id": "8G2x9gOozGDZ"
      }
    },
    {
      "cell_type": "markdown",
      "source": [
        "# **Conclusion**"
      ],
      "metadata": {
        "id": "gCX9965dhzqZ"
      }
    },
    {
      "cell_type": "markdown",
      "source": [
        "After conducting a thorough **exploratory data analysis (EDA)** on the **Supply Chain Management System (SCMS)** dataset, several insightful patterns and trends were uncovered. The dataset, which contains detailed shipment and order records across various regions and countries, proved to be well-structured with minimal missing values. This made the cleaning and preprocessing phase relatively smooth. By converting date columns into appropriate formats and standardizing data types, the dataset was prepared for deeper analysis.\n",
        "\n",
        "Through **univariate** and **bivariate** analyses, it became evident that Sub-Saharan Africa emerged as the region with the highest volume of orders, followed closely by the Middle East and North Africa. Among all item types, medical supplies and fruits were the most frequently ordered, pointing toward essential and consumable goods being in constant demand. The vast majority of orders were marked as \"Closed,\" suggesting an overall healthy flow in the supply chain system.\n",
        "\n",
        "Further analysis revealed strong correlations between unit price, units sold, and total cost, confirming the integrity of the financial data. Certain countries, such as South Africa, consistently appeared as top contributors to revenue, helping to identify key market zones. Outlier detection showed a few extreme cases in units sold and total revenue—these likely stem from large-scale orders during emergencies or governmental interventions.\n",
        "\n",
        "One of the more critical findings centered around delivery performance. By comparing order and ship dates, we identified recurring late deliveries in specific regions. These delays, especially during certain months, hint at underlying logistical challenges. Interestingly, a noticeable spike in order volume was observed during the third quarter of the year, which could be tied to seasonal demand or budget cycles.\n",
        "\n",
        "Overall, this analysis highlights the strengths and inefficiencies within the supply chain. While the system performs well in terms of order fulfillment, the data also points to opportunities for improvement, particularly in delivery logistics. Optimizing these processes—especially in regions with frequent delays—could significantly enhance operational efficiency. Additionally, being proactive about inventory planning ahead of Q3 could help the organization meet seasonal demand surges more effectively."
      ],
      "metadata": {
        "id": "Fjb1IsQkh3yE"
      }
    }
  ]
}